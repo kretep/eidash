{
 "cells": [
  {
   "cell_type": "code",
   "execution_count": null,
   "metadata": {},
   "outputs": [],
   "source": [
    "# Reload modules automatically on changes\n",
    "%load_ext autoreload\n",
    "%autoreload 2\n",
    "\n",
    "# Load the environment variables from .env file\n",
    "%load_ext dotenv\n",
    "%dotenv"
   ]
  },
  {
   "cell_type": "code",
   "execution_count": null,
   "metadata": {},
   "outputs": [],
   "source": [
    "# Make the modules findable (assumes that the working directory is \"prototypes\")\n",
    "import os\n",
    "parent_dir = os.path.abspath(os.path.join(os.getcwd(), os.pardir))\n",
    "sys.path.append(parent_dir)"
   ]
  },
  {
   "cell_type": "code",
   "execution_count": null,
   "metadata": {},
   "outputs": [],
   "source": [
    "from matplotlib import pyplot as plt\n",
    "import numpy as np\n",
    "from data.ephem import EphemData\n",
    "from data.nightscout import NightscoutData\n",
    "from data.weather import WeatherData\n",
    "from data.birthdays import BirthdayData\n",
    "from data.sunspot_image import SunspotImage\n",
    "from data.sunspot_number import SunspotNumber"
   ]
  },
  {
   "cell_type": "code",
   "execution_count": null,
   "metadata": {},
   "outputs": [],
   "source": [
    "# Initialize data\n",
    "nightscoutData = NightscoutData()\n",
    "weatherData = WeatherData()\n",
    "ephemData = EphemData()\n",
    "birthdayData = BirthdayData()\n",
    "sunspotImage = SunspotImage()\n",
    "sunspotNumber = SunspotNumber()"
   ]
  },
  {
   "cell_type": "code",
   "execution_count": null,
   "metadata": {},
   "outputs": [],
   "source": [
    "data = {\n",
    "    \"nightscout\": nightscoutData.get_data(),\n",
    "    \"weather\": weatherData.get_data(),\n",
    "    \"ephem\": ephemData.get_data(),\n",
    "    \"birthdays\": birthdayData.get_data(),\n",
    "    \"sunspot_image\": sunspotImage.get_data(),\n",
    "    \"sunspot_number\": sunspotNumber.get_data()\n",
    "}"
   ]
  },
  {
   "cell_type": "code",
   "execution_count": null,
   "metadata": {},
   "outputs": [],
   "source": [
    "from draw.hkdraw import HKDraw\n",
    "hkdraw = HKDraw(800, 480, font_dir='../fonts')\n",
    "hkdraw.draw_data(data)\n",
    "\n",
    "%matplotlib inline\n",
    "plt.rcParams['figure.figsize'] = [15, 8]\n",
    "plt.imshow(np.asarray(hkdraw.context.image), cmap=\"binary_r\")"
   ]
  },
  {
   "cell_type": "code",
   "execution_count": null,
   "metadata": {},
   "outputs": [],
   "source": []
  }
 ],
 "metadata": {
  "interpreter": {
   "hash": "e7370f93d1d0cde622a1f8e1c04877d8463912d04d973331ad4851f04de6915a"
  },
  "kernelspec": {
   "display_name": "Python 3.8.5 64-bit",
   "name": "python3"
  },
  "language_info": {
   "codemirror_mode": {
    "name": "ipython",
    "version": 3
   },
   "file_extension": ".py",
   "mimetype": "text/x-python",
   "name": "python",
   "nbconvert_exporter": "python",
   "pygments_lexer": "ipython3",
   "version": "3.8.5"
  }
 },
 "nbformat": 4,
 "nbformat_minor": 2
}
