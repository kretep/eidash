{
 "cells": [
  {
   "cell_type": "code",
   "execution_count": null,
   "metadata": {},
   "outputs": [],
   "source": [
    "# Reload modules automatically on changes\n",
    "%load_ext autoreload\n",
    "%autoreload 2\n",
    "\n",
    "# Load the environment variables from .env file\n",
    "%load_ext dotenv\n",
    "%dotenv"
   ]
  },
  {
   "cell_type": "code",
   "execution_count": null,
   "metadata": {},
   "outputs": [],
   "source": [
    "# Make the modules findable (assumes that the working directory is \"prototypes\")\n",
    "import os\n",
    "import sys\n",
    "parent_dir = os.path.abspath(os.path.join(os.getcwd(), os.pardir))\n",
    "sys.path.append(parent_dir)"
   ]
  },
  {
   "cell_type": "code",
   "execution_count": null,
   "metadata": {},
   "outputs": [],
   "source": [
    "from matplotlib import pyplot as plt\n",
    "import numpy as np\n",
    "from data.ephem import EphemData\n",
    "from data.nightscout import NightscoutData\n",
    "from data.weather import WeatherData\n",
    "from data.birthdays import BirthdayData\n",
    "from data.sunspot_image import SunspotImage\n",
    "from data.sunspot_number import SunspotNumber\n",
    "from data.buienradar_text import BuienradarText\n",
    "from data.kp_index import KpIndexData\n"
   ]
  },
  {
   "cell_type": "code",
   "execution_count": null,
   "metadata": {},
   "outputs": [],
   "source": [
    "# Initialize data\n",
    "dataSources = {\n",
    "    \"nightscout\": NightscoutData(),\n",
    "    \"weather\": WeatherData(),\n",
    "    \"ephem\": EphemData(),\n",
    "    \"birthdays\": BirthdayData(),\n",
    "    \"sunspot_image\": SunspotImage(),\n",
    "    \"sunspot_number\": SunspotNumber(),\n",
    "    \"buienradar_text\": BuienradarText(),\n",
    "    \"kp_index\": KpIndexData()\n",
    "}"
   ]
  },
  {
   "cell_type": "code",
   "execution_count": null,
   "metadata": {},
   "outputs": [],
   "source": [
    "# Retrieve data\n",
    "data = {}\n",
    "for key, source in dataSources.items():\n",
    "    try:\n",
    "        print(\"Retrieving data from\", key)\n",
    "        data[key] = source.get_data()\n",
    "    except Exception as err:\n",
    "        data[key] = { \"error\": str(err) }\n"
   ]
  },
  {
   "cell_type": "code",
   "execution_count": null,
   "metadata": {},
   "outputs": [],
   "source": [
    "from draw.hkdraw import HKDraw\n",
    "hkdraw = HKDraw(800, 480, font_dir='../fonts')\n",
    "hkdraw.draw_data(data)\n",
    "\n",
    "%matplotlib inline\n",
    "plt.rcParams['figure.figsize'] = [15, 8]\n",
    "plt.imshow(np.asarray(hkdraw.context.image), cmap=\"binary_r\")"
   ]
  },
  {
   "cell_type": "code",
   "execution_count": null,
   "metadata": {},
   "outputs": [],
   "source": []
  }
 ],
 "metadata": {
  "kernelspec": {
   "display_name": "Python 3",
   "language": "python",
   "name": "python3"
  },
  "language_info": {
   "codemirror_mode": {
    "name": "ipython",
    "version": 3
   },
   "file_extension": ".py",
   "mimetype": "text/x-python",
   "name": "python",
   "nbconvert_exporter": "python",
   "pygments_lexer": "ipython3",
   "version": "3.8.10"
  }
 },
 "nbformat": 4,
 "nbformat_minor": 2
}
