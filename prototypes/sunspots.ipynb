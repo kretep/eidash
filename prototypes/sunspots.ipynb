{
 "cells": [
  {
   "cell_type": "code",
   "execution_count": null,
   "metadata": {},
   "outputs": [],
   "source": [
    "from matplotlib import pyplot as plt\n",
    "import numpy as np\n",
    "import cv2\n",
    "import requests"
   ]
  },
  {
   "cell_type": "code",
   "execution_count": null,
   "metadata": {},
   "outputs": [],
   "source": [
    "response = requests.get(\"https://sohowww.nascom.nasa.gov/data/realtime/hmi_igr/1024/latest.jpg\")\n",
    "data = np.asarray(bytearray(response.content), dtype=\"uint8\")\n",
    "img_original = cv2.imdecode(data, cv2.IMREAD_COLOR)\n",
    "\n",
    "%matplotlib inline\n",
    "plt.rcParams['figure.figsize'] = [10, 10]\n",
    "img2 = img_original[:,:,::-1]\n",
    "plt.imshow(img2)"
   ]
  },
  {
   "cell_type": "code",
   "execution_count": null,
   "metadata": {},
   "outputs": [],
   "source": [
    "img_original = cv2.imread(\"../sun_latest.jpg\", cv2.IMREAD_COLOR)\n",
    "%matplotlib inline\n",
    "plt.rcParams['figure.figsize'] = [10, 10]\n",
    "img2 = img_original[:,:,::-1]\n",
    "plt.imshow(img2)"
   ]
  },
  {
   "cell_type": "code",
   "execution_count": null,
   "metadata": {},
   "outputs": [],
   "source": [
    "# Grayscale & threshold\n",
    "img = cv2.cvtColor(img_original, cv2.COLOR_BGR2GRAY)\n",
    "_, img_thresh = cv2.threshold(img, 140, 255, cv2.THRESH_BINARY)\n",
    "\n",
    "# Process background\n",
    "bg_kernel1 = cv2.getStructuringElement(cv2.MORPH_ELLIPSE, (13, 13))\n",
    "bg_erode = cv2.erode(img_thresh, bg_kernel1) # erode captions\n",
    "bg_kernel2 = cv2.getStructuringElement(cv2.MORPH_ELLIPSE, (25, 25))\n",
    "bg_dilate = cv2.dilate(bg_erode, bg_kernel2) # thicken circle\n",
    "bg_invert = ~bg_dilate\n",
    "\n",
    "# Embiggen sunspots\n",
    "# Bigger kernel for erosion than dilation, resulting in net growth\n",
    "# proportional to the original size.\n",
    "dilate_kernel = cv2.getStructuringElement(cv2.MORPH_ELLIPSE, (3, 3))\n",
    "erode_kernel = cv2.getStructuringElement(cv2.MORPH_ELLIPSE, (15, 15))\n",
    "img_combine = img_thresh.copy()        # for the result\n",
    "img_dilate_cache = img_thresh.copy()   # keep cache for accumulative dilation\n",
    "# Erode and dilate alternatingly. As the outer loop progresses, only the bigger\n",
    "# spots are not dilated away and get embiggened proportionally more (inner loop)\n",
    "for i in range(1, 4):\n",
    "    # Erode (embiggen) first, to make sure we don't lose the smallest spots.\n",
    "    img_erode = cv2.erode(img_dilate_cache, erode_kernel)\n",
    "    for j in range(i-1):\n",
    "        img_erode = cv2.erode(img_erode, erode_kernel)\n",
    "\n",
    "    # Combine the result with what we have\n",
    "    img_combine = cv2.min(img_combine, img_erode)\n",
    "\n",
    "    # Dilate (ensmallen) to remove the smallest spots for the next round\n",
    "    img_dilate_cache = cv2.dilate(img_dilate_cache, dilate_kernel)\n",
    "\n",
    "# Combining with background results in ring outline, while keeping sunspots\n",
    "img_combine = cv2.max(img_combine, bg_invert)\n",
    "\n",
    "# Resize\n",
    "img_resize = cv2.resize(img_combine, (72, 72), interpolation=cv2.INTER_NEAREST)\n",
    "\n",
    "%matplotlib inline\n",
    "plt.rcParams['figure.figsize'] = [20, 20]\n",
    "#img2 = img[:,:,::-1]\n",
    "plt.imshow(img_resize, cmap=\"binary_r\")"
   ]
  },
  {
   "cell_type": "code",
   "execution_count": null,
   "metadata": {},
   "outputs": [],
   "source": []
  }
 ],
 "metadata": {
  "kernelspec": {
   "display_name": "Python 3",
   "language": "python",
   "name": "python3"
  },
  "language_info": {
   "codemirror_mode": {
    "name": "ipython",
    "version": 3
   },
   "file_extension": ".py",
   "mimetype": "text/x-python",
   "name": "python",
   "nbconvert_exporter": "python",
   "pygments_lexer": "ipython3",
   "version": "3.8.5-final"
  }
 },
 "nbformat": 4,
 "nbformat_minor": 2
}
