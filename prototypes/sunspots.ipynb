{
 "metadata": {
  "language_info": {
   "codemirror_mode": {
    "name": "ipython",
    "version": 3
   },
   "file_extension": ".py",
   "mimetype": "text/x-python",
   "name": "python",
   "nbconvert_exporter": "python",
   "pygments_lexer": "ipython3",
   "version": "3.8.5-final"
  },
  "orig_nbformat": 2,
  "kernelspec": {
   "name": "python3",
   "display_name": "Python 3",
   "language": "python"
  }
 },
 "nbformat": 4,
 "nbformat_minor": 2,
 "cells": [
  {
   "cell_type": "code",
   "execution_count": null,
   "metadata": {},
   "outputs": [],
   "source": [
    "from matplotlib import pyplot as plt\n",
    "import numpy as np\n",
    "import cv2\n",
    "import requests"
   ]
  },
  {
   "cell_type": "code",
   "execution_count": null,
   "metadata": {},
   "outputs": [],
   "source": [
    "response = requests.get(\"https://sohowww.nascom.nasa.gov/data/realtime/hmi_igr/1024/latest.jpg\")\n",
    "data = np.asarray(bytearray(response.content), dtype=\"uint8\")\n",
    "img_original = cv2.imdecode(data, cv2.IMREAD_COLOR)\n",
    "\n",
    "%matplotlib inline\n",
    "plt.rcParams['figure.figsize'] = [10, 10]\n",
    "img2 = img_original[:,:,::-1]\n",
    "plt.imshow(img2)"
   ]
  },
  {
   "cell_type": "code",
   "execution_count": null,
   "metadata": {},
   "outputs": [],
   "source": [
    "img_original = cv2.imread(\"../sun_latest.jpg\", cv2.IMREAD_COLOR)\n",
    "%matplotlib inline\n",
    "plt.rcParams['figure.figsize'] = [10, 10]\n",
    "img2 = img_original[:,:,::-1]\n",
    "plt.imshow(img2)"
   ]
  },
  {
   "cell_type": "code",
   "execution_count": null,
   "metadata": {},
   "outputs": [],
   "source": [
    "# Grayscale & threshold\n",
    "img = cv2.cvtColor(img_original, cv2.COLOR_BGR2GRAY)\n",
    "ret, img_thresh = cv2.threshold(img, 140, 255, cv2.THRESH_BINARY)\n",
    "\n",
    "# Embiggen sunspots\n",
    "kernel = cv2.getStructuringElement(cv2.MORPH_ELLIPSE, (13, 13))\n",
    "img_erode = cv2.erode(img_thresh, kernel)\n",
    "\n",
    "# Process background\n",
    "kernel2 = cv2.getStructuringElement(cv2.MORPH_ELLIPSE, (25, 25))\n",
    "img_dilate = cv2.dilate(img_erode, kernel2)\n",
    "img_invert = ~img_dilate\n",
    "\n",
    "# Combining with background results in ring outline, while keeping sunspots\n",
    "img_combine = cv2.max(img_invert, img_erode)\n",
    "img_resize = cv2.resize(img_combine, (72, 72), interpolation=cv2.INTER_NEAREST)\n",
    "\n",
    "%matplotlib inline\n",
    "plt.rcParams['figure.figsize'] = [10, 10]\n",
    "#img2 = img[:,:,::-1]\n",
    "plt.imshow(img_resize, cmap=\"binary_r\")"
   ]
  },
  {
   "cell_type": "code",
   "execution_count": null,
   "metadata": {},
   "outputs": [],
   "source": []
  }
 ]
}